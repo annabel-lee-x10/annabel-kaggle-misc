{
 "cells": [
  {
   "cell_type": "markdown",
   "id": "df2a583c",
   "metadata": {
    "papermill": {
     "duration": 0.003957,
     "end_time": "2023-12-16T05:03:57.604943",
     "exception": false,
     "start_time": "2023-12-16T05:03:57.600986",
     "status": "completed"
    },
    "tags": []
   },
   "source": [
    "# Optimizing Your Machine Learning – Hyperparameters Tuning Simplified"
   ]
  },
  {
   "cell_type": "code",
   "execution_count": 1,
   "id": "5f4d8b63",
   "metadata": {
    "execution": {
     "iopub.execute_input": "2023-12-16T05:03:57.613375Z",
     "iopub.status.busy": "2023-12-16T05:03:57.612992Z",
     "iopub.status.idle": "2023-12-16T05:03:57.972175Z",
     "shell.execute_reply": "2023-12-16T05:03:57.970685Z"
    },
    "papermill": {
     "duration": 0.366832,
     "end_time": "2023-12-16T05:03:57.975032",
     "exception": false,
     "start_time": "2023-12-16T05:03:57.608200",
     "status": "completed"
    },
    "tags": []
   },
   "outputs": [],
   "source": [
    "# This Python 3 environment comes with many helpful analytics libraries installed\n",
    "# It is defined by the kaggle/python Docker image: https://github.com/kaggle/docker-python\n",
    "# For example, here's several helpful packages to load\n",
    "\n",
    "import numpy as np # linear algebra\n",
    "import pandas as pd # data processing, CSV file I/O (e.g. pd.read_csv)\n",
    "\n",
    "# Input data files are available in the read-only \"../input/\" directory\n",
    "# For example, running this (by clicking run or pressing Shift+Enter) will list all files under the input directory\n",
    "\n",
    "import os\n",
    "for dirname, _, filenames in os.walk('/kaggle/input'):\n",
    "    for filename in filenames:\n",
    "        print(os.path.join(dirname, filename))\n",
    "\n",
    "# You can write up to 20GB to the current directory (/kaggle/working/) that gets preserved as output when you create a version using \"Save & Run All\" \n",
    "# You can also write temporary files to /kaggle/temp/, but they won't be saved outside of the current session"
   ]
  },
  {
   "cell_type": "markdown",
   "id": "2ba1a997",
   "metadata": {
    "papermill": {
     "duration": 0.002803,
     "end_time": "2023-12-16T05:03:57.981348",
     "exception": false,
     "start_time": "2023-12-16T05:03:57.978545",
     "status": "completed"
    },
    "tags": []
   },
   "source": [
    "Just what is this Hyperparameter tuning? Hyperparameter tuning involves optimizing the configuration settings aka hyperparameters of a machine learning model to optimize its performance.\n",
    "\n",
    "The aim is to find the *optimal combination of hyperparameter values* that leads to the **best model performance**."
   ]
  },
  {
   "cell_type": "markdown",
   "id": "2d7e7817",
   "metadata": {
    "papermill": {
     "duration": 0.002813,
     "end_time": "2023-12-16T05:03:57.987090",
     "exception": false,
     "start_time": "2023-12-16T05:03:57.984277",
     "status": "completed"
    },
    "tags": []
   },
   "source": [
    "### Methods:\n",
    "\n",
    "1.\tGrid Search: Systematically searches through a predefined set of hyperparameter combinations.\n",
    "2.\tRandom Search: Randomly samples hyperparameter combinations from a specified range.\n",
    "3.\tBayesian Optimization: Uses probabilistic models to model the performance landscape and iteratively explores promising regions.\n",
    "4.\tGenetic Algorithms: Employs evolutionary principles to evolve a population of hyperparameter sets over multiple generations.\n",
    "\n",
    "For the purposes of article, I will just step through briefly the 2 more popular methods – Grid Search and Random Search with some examples for illustrations.\n"
   ]
  },
  {
   "cell_type": "markdown",
   "id": "db903a67",
   "metadata": {
    "papermill": {
     "duration": 0.002845,
     "end_time": "2023-12-16T05:03:57.992831",
     "exception": false,
     "start_time": "2023-12-16T05:03:57.989986",
     "status": "completed"
    },
    "tags": []
   },
   "source": [
    "We need to install the imperative package **scikit-learn** for this exercise."
   ]
  },
  {
   "cell_type": "code",
   "execution_count": 2,
   "id": "b3719e69",
   "metadata": {
    "execution": {
     "iopub.execute_input": "2023-12-16T05:03:58.002043Z",
     "iopub.status.busy": "2023-12-16T05:03:58.000333Z",
     "iopub.status.idle": "2023-12-16T05:04:09.763334Z",
     "shell.execute_reply": "2023-12-16T05:04:09.762396Z"
    },
    "papermill": {
     "duration": 11.769852,
     "end_time": "2023-12-16T05:04:09.765552",
     "exception": false,
     "start_time": "2023-12-16T05:03:57.995700",
     "status": "completed"
    },
    "tags": []
   },
   "outputs": [
    {
     "name": "stdout",
     "output_type": "stream",
     "text": [
      "Requirement already satisfied: scikit-learn in /opt/conda/lib/python3.10/site-packages (1.2.2)\r\n",
      "Requirement already satisfied: numpy>=1.17.3 in /opt/conda/lib/python3.10/site-packages (from scikit-learn) (1.24.3)\r\n",
      "Requirement already satisfied: scipy>=1.3.2 in /opt/conda/lib/python3.10/site-packages (from scikit-learn) (1.11.4)\r\n",
      "Requirement already satisfied: joblib>=1.1.1 in /opt/conda/lib/python3.10/site-packages (from scikit-learn) (1.3.2)\r\n",
      "Requirement already satisfied: threadpoolctl>=2.0.0 in /opt/conda/lib/python3.10/site-packages (from scikit-learn) (3.2.0)\r\n",
      "Note: you may need to restart the kernel to use updated packages.\n"
     ]
    }
   ],
   "source": [
    "pip install scikit-learn"
   ]
  },
  {
   "cell_type": "markdown",
   "id": "809a468d",
   "metadata": {
    "papermill": {
     "duration": 0.003178,
     "end_time": "2023-12-16T05:04:09.772674",
     "exception": false,
     "start_time": "2023-12-16T05:04:09.769496",
     "status": "completed"
    },
    "tags": []
   },
   "source": [
    "Let's use a opensource dataset Titanic for our analysis and modeling. To keep things simple, and to focus our tests only on the hjyperparameter tuning methods, we will stick to the same classier for both methods, and also same set of hyperparameters. \n",
    "\n",
    "In reality, there may be more adjustments and iterations, or we may even conclude we need to switch to a different algorithm / classifier."
   ]
  },
  {
   "cell_type": "code",
   "execution_count": 3,
   "id": "eabce91e",
   "metadata": {
    "execution": {
     "iopub.execute_input": "2023-12-16T05:04:09.781474Z",
     "iopub.status.busy": "2023-12-16T05:04:09.780993Z",
     "iopub.status.idle": "2023-12-16T05:04:12.360606Z",
     "shell.execute_reply": "2023-12-16T05:04:12.358991Z"
    },
    "papermill": {
     "duration": 2.587592,
     "end_time": "2023-12-16T05:04:12.363470",
     "exception": false,
     "start_time": "2023-12-16T05:04:09.775878",
     "status": "completed"
    },
    "tags": []
   },
   "outputs": [],
   "source": [
    "# Import necessary libraries\n",
    "import seaborn as sns\n",
    "import pandas as pd\n",
    "from sklearn.model_selection import train_test_split\n",
    "from sklearn.tree import DecisionTreeClassifier\n",
    "from sklearn.model_selection import GridSearchCV, RandomizedSearchCV\n",
    "from sklearn.metrics import accuracy_score\n",
    "\n",
    "# Load the Titanic dataset from seaborn\n",
    "titanic = sns.load_dataset('titanic')\n",
    "\n",
    "# Drop rows with missing values for simplicity\n",
    "titanic = titanic.dropna()\n",
    "\n",
    "# Prepare the data\n",
    "X = titanic[['pclass', 'sex', 'age', 'sibsp', 'parch', 'fare']]\n",
    "y = titanic['survived']\n",
    "\n",
    "# Convert categorical variables to numerical using one-hot encoding\n",
    "X = pd.get_dummies(X, columns=['sex'], drop_first=True)\n",
    "\n",
    "# Split the data into training and testing sets\n",
    "X_train, X_test, y_train, y_test = train_test_split(X, y, test_size=0.25, random_state=42)\n",
    "\n",
    "# Decision Tree Classifier\n",
    "dt_classifier = DecisionTreeClassifier()\n"
   ]
  },
  {
   "cell_type": "markdown",
   "id": "c38450b9",
   "metadata": {
    "papermill": {
     "duration": 0.003321,
     "end_time": "2023-12-16T05:04:12.370859",
     "exception": false,
     "start_time": "2023-12-16T05:04:12.367538",
     "status": "completed"
    },
    "tags": []
   },
   "source": [
    "Here we define the hyperparameters for both methods:"
   ]
  },
  {
   "cell_type": "code",
   "execution_count": 4,
   "id": "98dd1ee5",
   "metadata": {
    "execution": {
     "iopub.execute_input": "2023-12-16T05:04:12.379946Z",
     "iopub.status.busy": "2023-12-16T05:04:12.379310Z",
     "iopub.status.idle": "2023-12-16T05:04:12.384309Z",
     "shell.execute_reply": "2023-12-16T05:04:12.383026Z"
    },
    "papermill": {
     "duration": 0.011884,
     "end_time": "2023-12-16T05:04:12.386023",
     "exception": false,
     "start_time": "2023-12-16T05:04:12.374139",
     "status": "completed"
    },
    "tags": []
   },
   "outputs": [],
   "source": [
    "# Hyperparameter grid\n",
    "param_grid = {\n",
    "    'criterion': ['gini', 'entropy'],\n",
    "    'max_depth': [3, 5, 7, 10, None],\n",
    "    'min_samples_split': [2, 5, 10],\n",
    "    'min_samples_leaf': [1, 2, 4]\n",
    "}"
   ]
  },
  {
   "cell_type": "raw",
   "id": "f74e52b0",
   "metadata": {
    "papermill": {
     "duration": 0.002943,
     "end_time": "2023-12-16T05:04:12.392194",
     "exception": false,
     "start_time": "2023-12-16T05:04:12.389251",
     "status": "completed"
    },
    "tags": []
   },
   "source": [
    "Let's review GridSearchCV first."
   ]
  },
  {
   "cell_type": "code",
   "execution_count": 5,
   "id": "86baa4cb",
   "metadata": {
    "execution": {
     "iopub.execute_input": "2023-12-16T05:04:12.400545Z",
     "iopub.status.busy": "2023-12-16T05:04:12.399952Z",
     "iopub.status.idle": "2023-12-16T05:04:14.414519Z",
     "shell.execute_reply": "2023-12-16T05:04:14.412438Z"
    },
    "papermill": {
     "duration": 2.021706,
     "end_time": "2023-12-16T05:04:14.417052",
     "exception": false,
     "start_time": "2023-12-16T05:04:12.395346",
     "status": "completed"
    },
    "tags": []
   },
   "outputs": [
    {
     "name": "stdout",
     "output_type": "stream",
     "text": [
      "Grid Search Best Parameters: {'criterion': 'entropy', 'max_depth': 7, 'min_samples_leaf': 1, 'min_samples_split': 10}\n",
      "Grid Search Accuracy: 0.6739130434782609\n"
     ]
    }
   ],
   "source": [
    "\n",
    "# GridSearchCV\n",
    "grid_search = GridSearchCV(dt_classifier, param_grid, cv=5)\n",
    "grid_search.fit(X_train, y_train)\n",
    "grid_search_best_params = grid_search.best_params_\n",
    "\n",
    "\n",
    "# Fit models with best parameters\n",
    "grid_best_model = grid_search.best_estimator_\n",
    "grid_predictions = grid_best_model.predict(X_test)\n",
    "\n",
    "\n",
    "\n",
    "# Evaluate performance\n",
    "grid_accuracy = accuracy_score(y_test, grid_predictions)\n",
    "\n",
    "print(\"Grid Search Best Parameters:\", grid_search_best_params)\n",
    "print(\"Grid Search Accuracy:\", grid_accuracy)\n"
   ]
  },
  {
   "cell_type": "markdown",
   "id": "2812e7ca",
   "metadata": {
    "papermill": {
     "duration": 0.003317,
     "end_time": "2023-12-16T05:04:14.424328",
     "exception": false,
     "start_time": "2023-12-16T05:04:14.421011",
     "status": "completed"
    },
    "tags": []
   },
   "source": [
    "Next, let's take a look at RandomizedSearchCV"
   ]
  },
  {
   "cell_type": "code",
   "execution_count": 6,
   "id": "754c1724",
   "metadata": {
    "execution": {
     "iopub.execute_input": "2023-12-16T05:04:14.434726Z",
     "iopub.status.busy": "2023-12-16T05:04:14.433339Z",
     "iopub.status.idle": "2023-12-16T05:04:14.662670Z",
     "shell.execute_reply": "2023-12-16T05:04:14.660806Z"
    },
    "papermill": {
     "duration": 0.237314,
     "end_time": "2023-12-16T05:04:14.665229",
     "exception": false,
     "start_time": "2023-12-16T05:04:14.427915",
     "status": "completed"
    },
    "tags": []
   },
   "outputs": [
    {
     "name": "stdout",
     "output_type": "stream",
     "text": [
      "Random Search Best Parameters: {'min_samples_split': 10, 'min_samples_leaf': 1, 'max_depth': 7, 'criterion': 'entropy'}\n",
      "Random Search Accuracy: 0.6739130434782609\n"
     ]
    }
   ],
   "source": [
    "# RandomizedSearchCV\n",
    "random_search = RandomizedSearchCV(dt_classifier, param_grid, n_iter=10, cv=5, random_state=42)\n",
    "random_search.fit(X_train, y_train)\n",
    "random_search_best_params = random_search.best_params_\n",
    "\n",
    "# Fit models with best parameters\n",
    "random_best_model = random_search.best_estimator_\n",
    "random_predictions = random_best_model.predict(X_test)\n",
    "\n",
    "\n",
    "# Evaluate performance\n",
    "random_accuracy = accuracy_score(y_test, random_predictions)\n",
    "\n",
    "print(\"Random Search Best Parameters:\", random_search_best_params)\n",
    "print(\"Random Search Accuracy:\", random_accuracy)\n"
   ]
  },
  {
   "cell_type": "markdown",
   "id": "428e11f1",
   "metadata": {
    "papermill": {
     "duration": 0.00352,
     "end_time": "2023-12-16T05:04:14.672921",
     "exception": false,
     "start_time": "2023-12-16T05:04:14.669401",
     "status": "completed"
    },
    "tags": []
   },
   "source": [
    "A quick comparison for both sets will tell us which is the better algorithm and with the optimal set of hyperparameters.\n"
   ]
  }
 ],
 "metadata": {
  "kaggle": {
   "accelerator": "none",
   "dataSources": [],
   "dockerImageVersionId": 30626,
   "isGpuEnabled": false,
   "isInternetEnabled": true,
   "language": "python",
   "sourceType": "notebook"
  },
  "kernelspec": {
   "display_name": "Python 3",
   "language": "python",
   "name": "python3"
  },
  "language_info": {
   "codemirror_mode": {
    "name": "ipython",
    "version": 3
   },
   "file_extension": ".py",
   "mimetype": "text/x-python",
   "name": "python",
   "nbconvert_exporter": "python",
   "pygments_lexer": "ipython3",
   "version": "3.10.12"
  },
  "papermill": {
   "default_parameters": {},
   "duration": 20.775984,
   "end_time": "2023-12-16T05:04:15.600711",
   "environment_variables": {},
   "exception": null,
   "input_path": "__notebook__.ipynb",
   "output_path": "__notebook__.ipynb",
   "parameters": {},
   "start_time": "2023-12-16T05:03:54.824727",
   "version": "2.4.0"
  }
 },
 "nbformat": 4,
 "nbformat_minor": 5
}
