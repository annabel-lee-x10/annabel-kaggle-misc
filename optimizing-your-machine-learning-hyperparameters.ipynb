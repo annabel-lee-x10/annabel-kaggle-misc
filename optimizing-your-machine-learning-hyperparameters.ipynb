{
 "cells": [
  {
   "cell_type": "markdown",
   "id": "389dfac1",
   "metadata": {
    "papermill": {
     "duration": 0.003909,
     "end_time": "2023-12-16T04:59:39.658311",
     "exception": false,
     "start_time": "2023-12-16T04:59:39.654402",
     "status": "completed"
    },
    "tags": []
   },
   "source": [
    "# Optimizing Your Machine Learning – Hyperparameters Tuning Simplified"
   ]
  },
  {
   "cell_type": "code",
   "execution_count": 1,
   "id": "7d4d4c00",
   "metadata": {
    "execution": {
     "iopub.execute_input": "2023-12-16T04:59:39.667190Z",
     "iopub.status.busy": "2023-12-16T04:59:39.666818Z",
     "iopub.status.idle": "2023-12-16T04:59:40.024921Z",
     "shell.execute_reply": "2023-12-16T04:59:40.023086Z"
    },
    "papermill": {
     "duration": 0.365953,
     "end_time": "2023-12-16T04:59:40.027812",
     "exception": false,
     "start_time": "2023-12-16T04:59:39.661859",
     "status": "completed"
    },
    "tags": []
   },
   "outputs": [],
   "source": [
    "# This Python 3 environment comes with many helpful analytics libraries installed\n",
    "# It is defined by the kaggle/python Docker image: https://github.com/kaggle/docker-python\n",
    "# For example, here's several helpful packages to load\n",
    "\n",
    "import numpy as np # linear algebra\n",
    "import pandas as pd # data processing, CSV file I/O (e.g. pd.read_csv)\n",
    "\n",
    "# Input data files are available in the read-only \"../input/\" directory\n",
    "# For example, running this (by clicking run or pressing Shift+Enter) will list all files under the input directory\n",
    "\n",
    "import os\n",
    "for dirname, _, filenames in os.walk('/kaggle/input'):\n",
    "    for filename in filenames:\n",
    "        print(os.path.join(dirname, filename))\n",
    "\n",
    "# You can write up to 20GB to the current directory (/kaggle/working/) that gets preserved as output when you create a version using \"Save & Run All\" \n",
    "# You can also write temporary files to /kaggle/temp/, but they won't be saved outside of the current session"
   ]
  },
  {
   "cell_type": "markdown",
   "id": "2af97eb6",
   "metadata": {
    "papermill": {
     "duration": 0.003178,
     "end_time": "2023-12-16T04:59:40.034682",
     "exception": false,
     "start_time": "2023-12-16T04:59:40.031504",
     "status": "completed"
    },
    "tags": []
   },
   "source": [
    "Just what is this Hyperparameter tuning? Hyperparameter tuning involves optimizing the configuration settings aka hyperparameters of a machine learning model to optimize its performance.\n",
    "\n",
    "The aim is to find the *optimal combination of hyperparameter values* that leads to the **best model performance**."
   ]
  },
  {
   "cell_type": "markdown",
   "id": "0a49e665",
   "metadata": {
    "papermill": {
     "duration": 0.003017,
     "end_time": "2023-12-16T04:59:40.041104",
     "exception": false,
     "start_time": "2023-12-16T04:59:40.038087",
     "status": "completed"
    },
    "tags": []
   },
   "source": [
    "### Methods:\n",
    "\n",
    "1.\tGrid Search: Systematically searches through a predefined set of hyperparameter combinations.\n",
    "2.\tRandom Search: Randomly samples hyperparameter combinations from a specified range.\n",
    "3.\tBayesian Optimization: Uses probabilistic models to model the performance landscape and iteratively explores promising regions.\n",
    "4.\tGenetic Algorithms: Employs evolutionary principles to evolve a population of hyperparameter sets over multiple generations.\n",
    "\n",
    "For the purposes of article, I will just step through briefly the 2 more popular methods – Grid Search and Random Search with some examples for illustrations.\n"
   ]
  },
  {
   "cell_type": "markdown",
   "id": "900fa3a5",
   "metadata": {
    "papermill": {
     "duration": 0.003055,
     "end_time": "2023-12-16T04:59:40.047449",
     "exception": false,
     "start_time": "2023-12-16T04:59:40.044394",
     "status": "completed"
    },
    "tags": []
   },
   "source": [
    "We need to install the imperative package **scikit-learn** for this exercise."
   ]
  },
  {
   "cell_type": "code",
   "execution_count": 2,
   "id": "0e914dfd",
   "metadata": {
    "execution": {
     "iopub.execute_input": "2023-12-16T04:59:40.056180Z",
     "iopub.status.busy": "2023-12-16T04:59:40.055660Z",
     "iopub.status.idle": "2023-12-16T04:59:52.224041Z",
     "shell.execute_reply": "2023-12-16T04:59:52.221829Z"
    },
    "papermill": {
     "duration": 12.176837,
     "end_time": "2023-12-16T04:59:52.227592",
     "exception": false,
     "start_time": "2023-12-16T04:59:40.050755",
     "status": "completed"
    },
    "tags": []
   },
   "outputs": [
    {
     "name": "stdout",
     "output_type": "stream",
     "text": [
      "Requirement already satisfied: scikit-learn in /opt/conda/lib/python3.10/site-packages (1.2.2)\r\n",
      "Requirement already satisfied: numpy>=1.17.3 in /opt/conda/lib/python3.10/site-packages (from scikit-learn) (1.24.3)\r\n",
      "Requirement already satisfied: scipy>=1.3.2 in /opt/conda/lib/python3.10/site-packages (from scikit-learn) (1.11.4)\r\n",
      "Requirement already satisfied: joblib>=1.1.1 in /opt/conda/lib/python3.10/site-packages (from scikit-learn) (1.3.2)\r\n",
      "Requirement already satisfied: threadpoolctl>=2.0.0 in /opt/conda/lib/python3.10/site-packages (from scikit-learn) (3.2.0)\r\n",
      "Note: you may need to restart the kernel to use updated packages.\n"
     ]
    }
   ],
   "source": [
    "pip install scikit-learn"
   ]
  },
  {
   "cell_type": "markdown",
   "id": "43d522ed",
   "metadata": {
    "papermill": {
     "duration": 0.005048,
     "end_time": "2023-12-16T04:59:52.237509",
     "exception": false,
     "start_time": "2023-12-16T04:59:52.232461",
     "status": "completed"
    },
    "tags": []
   },
   "source": [
    "Let's use a opensource dataset Titanic for our analysis and modeling. To keep things simple, and to focus our tests only on the hjyperparameter tuning methods, we will stick to the same classier for both methods, and also same set of hyperparameters. \n",
    "\n",
    "In reality, there may be more adjustments and iterations, or we may even conclude we need to switch to a different algorithm / classifier."
   ]
  },
  {
   "cell_type": "code",
   "execution_count": 3,
   "id": "667eba9e",
   "metadata": {
    "execution": {
     "iopub.execute_input": "2023-12-16T04:59:52.249307Z",
     "iopub.status.busy": "2023-12-16T04:59:52.248910Z",
     "iopub.status.idle": "2023-12-16T04:59:54.993230Z",
     "shell.execute_reply": "2023-12-16T04:59:54.992180Z"
    },
    "papermill": {
     "duration": 2.753286,
     "end_time": "2023-12-16T04:59:54.995843",
     "exception": false,
     "start_time": "2023-12-16T04:59:52.242557",
     "status": "completed"
    },
    "tags": []
   },
   "outputs": [],
   "source": [
    "# Import necessary libraries\n",
    "import seaborn as sns\n",
    "import pandas as pd\n",
    "from sklearn.model_selection import train_test_split\n",
    "from sklearn.tree import DecisionTreeClassifier\n",
    "from sklearn.model_selection import GridSearchCV, RandomizedSearchCV\n",
    "from sklearn.metrics import accuracy_score\n",
    "\n",
    "# Load the Titanic dataset from seaborn\n",
    "titanic = sns.load_dataset('titanic')\n",
    "\n",
    "# Drop rows with missing values for simplicity\n",
    "titanic = titanic.dropna()\n",
    "\n",
    "# Prepare the data\n",
    "X = titanic[['pclass', 'sex', 'age', 'sibsp', 'parch', 'fare']]\n",
    "y = titanic['survived']\n",
    "\n",
    "# Convert categorical variables to numerical using one-hot encoding\n",
    "X = pd.get_dummies(X, columns=['sex'], drop_first=True)\n",
    "\n",
    "# Split the data into training and testing sets\n",
    "X_train, X_test, y_train, y_test = train_test_split(X, y, test_size=0.25, random_state=42)\n",
    "\n",
    "# Decision Tree Classifier\n",
    "dt_classifier = DecisionTreeClassifier()\n"
   ]
  },
  {
   "cell_type": "markdown",
   "id": "1338d09b",
   "metadata": {
    "papermill": {
     "duration": 0.00379,
     "end_time": "2023-12-16T04:59:55.003798",
     "exception": false,
     "start_time": "2023-12-16T04:59:55.000008",
     "status": "completed"
    },
    "tags": []
   },
   "source": [
    "Here we define the hyperparameters for both methods:"
   ]
  },
  {
   "cell_type": "code",
   "execution_count": 4,
   "id": "500ead7f",
   "metadata": {
    "execution": {
     "iopub.execute_input": "2023-12-16T04:59:55.013341Z",
     "iopub.status.busy": "2023-12-16T04:59:55.012346Z",
     "iopub.status.idle": "2023-12-16T04:59:55.019590Z",
     "shell.execute_reply": "2023-12-16T04:59:55.017894Z"
    },
    "papermill": {
     "duration": 0.014546,
     "end_time": "2023-12-16T04:59:55.022017",
     "exception": false,
     "start_time": "2023-12-16T04:59:55.007471",
     "status": "completed"
    },
    "tags": []
   },
   "outputs": [],
   "source": [
    "# Hyperparameter grid\n",
    "param_grid = {\n",
    "    'criterion': ['gini', 'entropy'],\n",
    "    'max_depth': [3, 5, 7, 10, None],\n",
    "    'min_samples_split': [2, 5, 10],\n",
    "    'min_samples_leaf': [1, 2, 4]\n",
    "}"
   ]
  },
  {
   "cell_type": "raw",
   "id": "b01ad168",
   "metadata": {
    "papermill": {
     "duration": 0.003409,
     "end_time": "2023-12-16T04:59:55.029389",
     "exception": false,
     "start_time": "2023-12-16T04:59:55.025980",
     "status": "completed"
    },
    "tags": []
   },
   "source": [
    "Let's review GridSearchCV first."
   ]
  },
  {
   "cell_type": "code",
   "execution_count": 5,
   "id": "082a4888",
   "metadata": {
    "execution": {
     "iopub.execute_input": "2023-12-16T04:59:55.038799Z",
     "iopub.status.busy": "2023-12-16T04:59:55.037967Z",
     "iopub.status.idle": "2023-12-16T04:59:57.248048Z",
     "shell.execute_reply": "2023-12-16T04:59:57.246441Z"
    },
    "papermill": {
     "duration": 2.217667,
     "end_time": "2023-12-16T04:59:57.250647",
     "exception": false,
     "start_time": "2023-12-16T04:59:55.032980",
     "status": "completed"
    },
    "tags": []
   },
   "outputs": [
    {
     "name": "stdout",
     "output_type": "stream",
     "text": [
      "Grid Search Best Parameters: {'criterion': 'entropy', 'max_depth': 5, 'min_samples_leaf': 1, 'min_samples_split': 2}\n",
      "Grid Search Accuracy: 0.717391304347826\n"
     ]
    }
   ],
   "source": [
    "\n",
    "# GridSearchCV\n",
    "grid_search = GridSearchCV(dt_classifier, param_grid, cv=5)\n",
    "grid_search.fit(X_train, y_train)\n",
    "grid_search_best_params = grid_search.best_params_\n",
    "\n",
    "\n",
    "# Fit models with best parameters\n",
    "grid_best_model = grid_search.best_estimator_\n",
    "grid_predictions = grid_best_model.predict(X_test)\n",
    "\n",
    "\n",
    "\n",
    "# Evaluate performance\n",
    "grid_accuracy = accuracy_score(y_test, grid_predictions)\n",
    "\n",
    "print(\"Grid Search Best Parameters:\", grid_search_best_params)\n",
    "print(\"Grid Search Accuracy:\", grid_accuracy)\n"
   ]
  },
  {
   "cell_type": "markdown",
   "id": "6619122b",
   "metadata": {
    "papermill": {
     "duration": 0.003937,
     "end_time": "2023-12-16T04:59:57.258850",
     "exception": false,
     "start_time": "2023-12-16T04:59:57.254913",
     "status": "completed"
    },
    "tags": []
   },
   "source": [
    "Next, let's take a look at RandomizedSearchCV"
   ]
  },
  {
   "cell_type": "code",
   "execution_count": 6,
   "id": "00830478",
   "metadata": {
    "execution": {
     "iopub.execute_input": "2023-12-16T04:59:57.268027Z",
     "iopub.status.busy": "2023-12-16T04:59:57.267655Z",
     "iopub.status.idle": "2023-12-16T04:59:57.520770Z",
     "shell.execute_reply": "2023-12-16T04:59:57.519431Z"
    },
    "papermill": {
     "duration": 0.26017,
     "end_time": "2023-12-16T04:59:57.522826",
     "exception": false,
     "start_time": "2023-12-16T04:59:57.262656",
     "status": "completed"
    },
    "tags": []
   },
   "outputs": [
    {
     "name": "stdout",
     "output_type": "stream",
     "text": [
      "Random Search Best Parameters: {'min_samples_split': 5, 'min_samples_leaf': 1, 'max_depth': 5, 'criterion': 'entropy'}\n",
      "Random Search Accuracy: 0.717391304347826\n"
     ]
    }
   ],
   "source": [
    "# RandomizedSearchCV\n",
    "random_search = RandomizedSearchCV(dt_classifier, param_grid, n_iter=10, cv=5, random_state=42)\n",
    "random_search.fit(X_train, y_train)\n",
    "random_search_best_params = random_search.best_params_\n",
    "\n",
    "# Fit models with best parameters\n",
    "random_best_model = random_search.best_estimator_\n",
    "random_predictions = random_best_model.predict(X_test)\n",
    "\n",
    "\n",
    "# Evaluate performance\n",
    "random_accuracy = accuracy_score(y_test, random_predictions)\n",
    "\n",
    "print(\"Random Search Best Parameters:\", random_search_best_params)\n",
    "print(\"Random Search Accuracy:\", random_accuracy)\n"
   ]
  },
  {
   "cell_type": "markdown",
   "id": "96c4e8e0",
   "metadata": {
    "papermill": {
     "duration": 0.00341,
     "end_time": "2023-12-16T04:59:57.530160",
     "exception": false,
     "start_time": "2023-12-16T04:59:57.526750",
     "status": "completed"
    },
    "tags": []
   },
   "source": [
    "A quick comparison for the current set of tests tells us the *Random Search has better accuracy* at **73.91%** compared to *Grid Search* at **71.74%** with the optimal parameters as follows:\n",
    "\n",
    "> Random Search Best Parameters: {'min_samples_split': 2, 'min_samples_leaf': 1, 'max_depth': 3, 'criterion': 'gini'}\n"
   ]
  },
  {
   "cell_type": "markdown",
   "id": "a4b15b1a",
   "metadata": {
    "papermill": {
     "duration": 0.003372,
     "end_time": "2023-12-16T04:59:57.537292",
     "exception": false,
     "start_time": "2023-12-16T04:59:57.533920",
     "status": "completed"
    },
    "tags": []
   },
   "source": [
    "This concludes that Grid Search is better in our current situation."
   ]
  }
 ],
 "metadata": {
  "kaggle": {
   "accelerator": "none",
   "dataSources": [],
   "dockerImageVersionId": 30626,
   "isGpuEnabled": false,
   "isInternetEnabled": true,
   "language": "python",
   "sourceType": "notebook"
  },
  "kernelspec": {
   "display_name": "Python 3",
   "language": "python",
   "name": "python3"
  },
  "language_info": {
   "codemirror_mode": {
    "name": "ipython",
    "version": 3
   },
   "file_extension": ".py",
   "mimetype": "text/x-python",
   "name": "python",
   "nbconvert_exporter": "python",
   "pygments_lexer": "ipython3",
   "version": "3.10.12"
  },
  "papermill": {
   "default_parameters": {},
   "duration": 21.458036,
   "end_time": "2023-12-16T04:59:58.263243",
   "environment_variables": {},
   "exception": null,
   "input_path": "__notebook__.ipynb",
   "output_path": "__notebook__.ipynb",
   "parameters": {},
   "start_time": "2023-12-16T04:59:36.805207",
   "version": "2.4.0"
  }
 },
 "nbformat": 4,
 "nbformat_minor": 5
}
