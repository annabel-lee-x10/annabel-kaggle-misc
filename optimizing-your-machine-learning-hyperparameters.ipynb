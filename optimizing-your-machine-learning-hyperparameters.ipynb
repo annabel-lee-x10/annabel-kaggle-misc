{
 "cells": [
  {
   "cell_type": "markdown",
   "id": "1872e409",
   "metadata": {
    "papermill": {
     "duration": 0.005682,
     "end_time": "2023-12-16T05:02:07.398801",
     "exception": false,
     "start_time": "2023-12-16T05:02:07.393119",
     "status": "completed"
    },
    "tags": []
   },
   "source": [
    "# Optimizing Your Machine Learning – Hyperparameters Tuning Simplified"
   ]
  },
  {
   "cell_type": "code",
   "execution_count": 1,
   "id": "34bfdf85",
   "metadata": {
    "execution": {
     "iopub.execute_input": "2023-12-16T05:02:07.411811Z",
     "iopub.status.busy": "2023-12-16T05:02:07.411420Z",
     "iopub.status.idle": "2023-12-16T05:02:07.847491Z",
     "shell.execute_reply": "2023-12-16T05:02:07.846249Z"
    },
    "papermill": {
     "duration": 0.445758,
     "end_time": "2023-12-16T05:02:07.850184",
     "exception": false,
     "start_time": "2023-12-16T05:02:07.404426",
     "status": "completed"
    },
    "tags": []
   },
   "outputs": [],
   "source": [
    "# This Python 3 environment comes with many helpful analytics libraries installed\n",
    "# It is defined by the kaggle/python Docker image: https://github.com/kaggle/docker-python\n",
    "# For example, here's several helpful packages to load\n",
    "\n",
    "import numpy as np # linear algebra\n",
    "import pandas as pd # data processing, CSV file I/O (e.g. pd.read_csv)\n",
    "\n",
    "# Input data files are available in the read-only \"../input/\" directory\n",
    "# For example, running this (by clicking run or pressing Shift+Enter) will list all files under the input directory\n",
    "\n",
    "import os\n",
    "for dirname, _, filenames in os.walk('/kaggle/input'):\n",
    "    for filename in filenames:\n",
    "        print(os.path.join(dirname, filename))\n",
    "\n",
    "# You can write up to 20GB to the current directory (/kaggle/working/) that gets preserved as output when you create a version using \"Save & Run All\" \n",
    "# You can also write temporary files to /kaggle/temp/, but they won't be saved outside of the current session"
   ]
  },
  {
   "cell_type": "markdown",
   "id": "4c50d632",
   "metadata": {
    "papermill": {
     "duration": 0.005015,
     "end_time": "2023-12-16T05:02:07.860724",
     "exception": false,
     "start_time": "2023-12-16T05:02:07.855709",
     "status": "completed"
    },
    "tags": []
   },
   "source": [
    "Just what is this Hyperparameter tuning? Hyperparameter tuning involves optimizing the configuration settings aka hyperparameters of a machine learning model to optimize its performance.\n",
    "\n",
    "The aim is to find the *optimal combination of hyperparameter values* that leads to the **best model performance**."
   ]
  },
  {
   "cell_type": "markdown",
   "id": "2925db8b",
   "metadata": {
    "papermill": {
     "duration": 0.005063,
     "end_time": "2023-12-16T05:02:07.871572",
     "exception": false,
     "start_time": "2023-12-16T05:02:07.866509",
     "status": "completed"
    },
    "tags": []
   },
   "source": [
    "### Methods:\n",
    "\n",
    "1.\tGrid Search: Systematically searches through a predefined set of hyperparameter combinations.\n",
    "2.\tRandom Search: Randomly samples hyperparameter combinations from a specified range.\n",
    "3.\tBayesian Optimization: Uses probabilistic models to model the performance landscape and iteratively explores promising regions.\n",
    "4.\tGenetic Algorithms: Employs evolutionary principles to evolve a population of hyperparameter sets over multiple generations.\n",
    "\n",
    "For the purposes of article, I will just step through briefly the 2 more popular methods – Grid Search and Random Search with some examples for illustrations.\n"
   ]
  },
  {
   "cell_type": "markdown",
   "id": "6b3d3dc4",
   "metadata": {
    "papermill": {
     "duration": 0.004923,
     "end_time": "2023-12-16T05:02:07.881735",
     "exception": false,
     "start_time": "2023-12-16T05:02:07.876812",
     "status": "completed"
    },
    "tags": []
   },
   "source": [
    "We need to install the imperative package **scikit-learn** for this exercise."
   ]
  },
  {
   "cell_type": "code",
   "execution_count": 2,
   "id": "dfe9f435",
   "metadata": {
    "execution": {
     "iopub.execute_input": "2023-12-16T05:02:07.894307Z",
     "iopub.status.busy": "2023-12-16T05:02:07.893782Z",
     "iopub.status.idle": "2023-12-16T05:02:23.162285Z",
     "shell.execute_reply": "2023-12-16T05:02:23.161069Z"
    },
    "papermill": {
     "duration": 15.278738,
     "end_time": "2023-12-16T05:02:23.165704",
     "exception": false,
     "start_time": "2023-12-16T05:02:07.886966",
     "status": "completed"
    },
    "tags": []
   },
   "outputs": [
    {
     "name": "stdout",
     "output_type": "stream",
     "text": [
      "Requirement already satisfied: scikit-learn in /opt/conda/lib/python3.10/site-packages (1.2.2)\r\n",
      "Requirement already satisfied: numpy>=1.17.3 in /opt/conda/lib/python3.10/site-packages (from scikit-learn) (1.24.3)\r\n",
      "Requirement already satisfied: scipy>=1.3.2 in /opt/conda/lib/python3.10/site-packages (from scikit-learn) (1.11.4)\r\n",
      "Requirement already satisfied: joblib>=1.1.1 in /opt/conda/lib/python3.10/site-packages (from scikit-learn) (1.3.2)\r\n",
      "Requirement already satisfied: threadpoolctl>=2.0.0 in /opt/conda/lib/python3.10/site-packages (from scikit-learn) (3.2.0)\r\n",
      "Note: you may need to restart the kernel to use updated packages.\n"
     ]
    }
   ],
   "source": [
    "pip install scikit-learn"
   ]
  },
  {
   "cell_type": "markdown",
   "id": "eee13fe5",
   "metadata": {
    "papermill": {
     "duration": 0.007462,
     "end_time": "2023-12-16T05:02:23.181181",
     "exception": false,
     "start_time": "2023-12-16T05:02:23.173719",
     "status": "completed"
    },
    "tags": []
   },
   "source": [
    "Let's use a opensource dataset Titanic for our analysis and modeling. To keep things simple, and to focus our tests only on the hjyperparameter tuning methods, we will stick to the same classier for both methods, and also same set of hyperparameters. \n",
    "\n",
    "In reality, there may be more adjustments and iterations, or we may even conclude we need to switch to a different algorithm / classifier."
   ]
  },
  {
   "cell_type": "code",
   "execution_count": 3,
   "id": "e772c891",
   "metadata": {
    "execution": {
     "iopub.execute_input": "2023-12-16T05:02:23.194651Z",
     "iopub.status.busy": "2023-12-16T05:02:23.194195Z",
     "iopub.status.idle": "2023-12-16T05:02:26.523113Z",
     "shell.execute_reply": "2023-12-16T05:02:26.521651Z"
    },
    "papermill": {
     "duration": 3.339395,
     "end_time": "2023-12-16T05:02:26.526251",
     "exception": false,
     "start_time": "2023-12-16T05:02:23.186856",
     "status": "completed"
    },
    "tags": []
   },
   "outputs": [],
   "source": [
    "# Import necessary libraries\n",
    "import seaborn as sns\n",
    "import pandas as pd\n",
    "from sklearn.model_selection import train_test_split\n",
    "from sklearn.tree import DecisionTreeClassifier\n",
    "from sklearn.model_selection import GridSearchCV, RandomizedSearchCV\n",
    "from sklearn.metrics import accuracy_score\n",
    "\n",
    "# Load the Titanic dataset from seaborn\n",
    "titanic = sns.load_dataset('titanic')\n",
    "\n",
    "# Drop rows with missing values for simplicity\n",
    "titanic = titanic.dropna()\n",
    "\n",
    "# Prepare the data\n",
    "X = titanic[['pclass', 'sex', 'age', 'sibsp', 'parch', 'fare']]\n",
    "y = titanic['survived']\n",
    "\n",
    "# Convert categorical variables to numerical using one-hot encoding\n",
    "X = pd.get_dummies(X, columns=['sex'], drop_first=True)\n",
    "\n",
    "# Split the data into training and testing sets\n",
    "X_train, X_test, y_train, y_test = train_test_split(X, y, test_size=0.25, random_state=42)\n",
    "\n",
    "# Decision Tree Classifier\n",
    "dt_classifier = DecisionTreeClassifier()\n"
   ]
  },
  {
   "cell_type": "markdown",
   "id": "e20249e8",
   "metadata": {
    "papermill": {
     "duration": 0.005296,
     "end_time": "2023-12-16T05:02:26.537375",
     "exception": false,
     "start_time": "2023-12-16T05:02:26.532079",
     "status": "completed"
    },
    "tags": []
   },
   "source": [
    "Here we define the hyperparameters for both methods:"
   ]
  },
  {
   "cell_type": "code",
   "execution_count": 4,
   "id": "b9597496",
   "metadata": {
    "execution": {
     "iopub.execute_input": "2023-12-16T05:02:26.550469Z",
     "iopub.status.busy": "2023-12-16T05:02:26.549785Z",
     "iopub.status.idle": "2023-12-16T05:02:26.554756Z",
     "shell.execute_reply": "2023-12-16T05:02:26.553928Z"
    },
    "papermill": {
     "duration": 0.014321,
     "end_time": "2023-12-16T05:02:26.557157",
     "exception": false,
     "start_time": "2023-12-16T05:02:26.542836",
     "status": "completed"
    },
    "tags": []
   },
   "outputs": [],
   "source": [
    "# Hyperparameter grid\n",
    "param_grid = {\n",
    "    'criterion': ['gini', 'entropy'],\n",
    "    'max_depth': [3, 5, 7, 10, None],\n",
    "    'min_samples_split': [2, 5, 10],\n",
    "    'min_samples_leaf': [1, 2, 4]\n",
    "}"
   ]
  },
  {
   "cell_type": "raw",
   "id": "8dba37d7",
   "metadata": {
    "papermill": {
     "duration": 0.005152,
     "end_time": "2023-12-16T05:02:26.568161",
     "exception": false,
     "start_time": "2023-12-16T05:02:26.563009",
     "status": "completed"
    },
    "tags": []
   },
   "source": [
    "Let's review GridSearchCV first."
   ]
  },
  {
   "cell_type": "code",
   "execution_count": 5,
   "id": "84cbe2f7",
   "metadata": {
    "execution": {
     "iopub.execute_input": "2023-12-16T05:02:26.581109Z",
     "iopub.status.busy": "2023-12-16T05:02:26.580413Z",
     "iopub.status.idle": "2023-12-16T05:02:29.214167Z",
     "shell.execute_reply": "2023-12-16T05:02:29.213000Z"
    },
    "papermill": {
     "duration": 2.643448,
     "end_time": "2023-12-16T05:02:29.216974",
     "exception": false,
     "start_time": "2023-12-16T05:02:26.573526",
     "status": "completed"
    },
    "tags": []
   },
   "outputs": [
    {
     "name": "stdout",
     "output_type": "stream",
     "text": [
      "Grid Search Best Parameters: {'criterion': 'entropy', 'max_depth': 5, 'min_samples_leaf': 2, 'min_samples_split': 10}\n",
      "Grid Search Accuracy: 0.717391304347826\n"
     ]
    }
   ],
   "source": [
    "\n",
    "# GridSearchCV\n",
    "grid_search = GridSearchCV(dt_classifier, param_grid, cv=5)\n",
    "grid_search.fit(X_train, y_train)\n",
    "grid_search_best_params = grid_search.best_params_\n",
    "\n",
    "\n",
    "# Fit models with best parameters\n",
    "grid_best_model = grid_search.best_estimator_\n",
    "grid_predictions = grid_best_model.predict(X_test)\n",
    "\n",
    "\n",
    "\n",
    "# Evaluate performance\n",
    "grid_accuracy = accuracy_score(y_test, grid_predictions)\n",
    "\n",
    "print(\"Grid Search Best Parameters:\", grid_search_best_params)\n",
    "print(\"Grid Search Accuracy:\", grid_accuracy)\n"
   ]
  },
  {
   "cell_type": "markdown",
   "id": "9ca90a59",
   "metadata": {
    "papermill": {
     "duration": 0.005416,
     "end_time": "2023-12-16T05:02:29.228103",
     "exception": false,
     "start_time": "2023-12-16T05:02:29.222687",
     "status": "completed"
    },
    "tags": []
   },
   "source": [
    "Next, let's take a look at RandomizedSearchCV"
   ]
  },
  {
   "cell_type": "code",
   "execution_count": 6,
   "id": "08f6990f",
   "metadata": {
    "execution": {
     "iopub.execute_input": "2023-12-16T05:02:29.241805Z",
     "iopub.status.busy": "2023-12-16T05:02:29.241386Z",
     "iopub.status.idle": "2023-12-16T05:02:29.547418Z",
     "shell.execute_reply": "2023-12-16T05:02:29.546402Z"
    },
    "papermill": {
     "duration": 0.31677,
     "end_time": "2023-12-16T05:02:29.550744",
     "exception": false,
     "start_time": "2023-12-16T05:02:29.233974",
     "status": "completed"
    },
    "tags": []
   },
   "outputs": [
    {
     "name": "stdout",
     "output_type": "stream",
     "text": [
      "Random Search Best Parameters: {'min_samples_split': 2, 'min_samples_leaf': 1, 'max_depth': 3, 'criterion': 'gini'}\n",
      "Random Search Accuracy: 0.7391304347826086\n"
     ]
    }
   ],
   "source": [
    "# RandomizedSearchCV\n",
    "random_search = RandomizedSearchCV(dt_classifier, param_grid, n_iter=10, cv=5, random_state=42)\n",
    "random_search.fit(X_train, y_train)\n",
    "random_search_best_params = random_search.best_params_\n",
    "\n",
    "# Fit models with best parameters\n",
    "random_best_model = random_search.best_estimator_\n",
    "random_predictions = random_best_model.predict(X_test)\n",
    "\n",
    "\n",
    "# Evaluate performance\n",
    "random_accuracy = accuracy_score(y_test, random_predictions)\n",
    "\n",
    "print(\"Random Search Best Parameters:\", random_search_best_params)\n",
    "print(\"Random Search Accuracy:\", random_accuracy)\n"
   ]
  },
  {
   "cell_type": "markdown",
   "id": "5b98ad85",
   "metadata": {
    "papermill": {
     "duration": 0.005426,
     "end_time": "2023-12-16T05:02:29.561969",
     "exception": false,
     "start_time": "2023-12-16T05:02:29.556543",
     "status": "completed"
    },
    "tags": []
   },
   "source": [
    "A quick comparison for both sets will tell us which is the better algorithm and with the optimal set of hyperparameters.\n"
   ]
  },
  {
   "cell_type": "markdown",
   "id": "81c871dd",
   "metadata": {
    "papermill": {
     "duration": 0.005362,
     "end_time": "2023-12-16T05:02:29.573131",
     "exception": false,
     "start_time": "2023-12-16T05:02:29.567769",
     "status": "completed"
    },
    "tags": []
   },
   "source": [
    "This concludes that Grid Search is better in our current situation."
   ]
  }
 ],
 "metadata": {
  "kaggle": {
   "accelerator": "none",
   "dataSources": [],
   "dockerImageVersionId": 30626,
   "isGpuEnabled": false,
   "isInternetEnabled": true,
   "language": "python",
   "sourceType": "notebook"
  },
  "kernelspec": {
   "display_name": "Python 3",
   "language": "python",
   "name": "python3"
  },
  "language_info": {
   "codemirror_mode": {
    "name": "ipython",
    "version": 3
   },
   "file_extension": ".py",
   "mimetype": "text/x-python",
   "name": "python",
   "nbconvert_exporter": "python",
   "pygments_lexer": "ipython3",
   "version": "3.10.12"
  },
  "papermill": {
   "default_parameters": {},
   "duration": 26.384095,
   "end_time": "2023-12-16T05:02:30.301016",
   "environment_variables": {},
   "exception": null,
   "input_path": "__notebook__.ipynb",
   "output_path": "__notebook__.ipynb",
   "parameters": {},
   "start_time": "2023-12-16T05:02:03.916921",
   "version": "2.4.0"
  }
 },
 "nbformat": 4,
 "nbformat_minor": 5
}
