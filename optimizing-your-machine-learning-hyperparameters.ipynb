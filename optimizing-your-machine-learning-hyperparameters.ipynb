{
 "cells": [
  {
   "cell_type": "markdown",
   "id": "c5e887b6",
   "metadata": {
    "papermill": {
     "duration": 0.005778,
     "end_time": "2023-12-16T05:06:02.075951",
     "exception": false,
     "start_time": "2023-12-16T05:06:02.070173",
     "status": "completed"
    },
    "tags": []
   },
   "source": [
    "# Optimizing Your Machine Learning – Hyperparameters Tuning Simplified"
   ]
  },
  {
   "cell_type": "code",
   "execution_count": 1,
   "id": "43e7d08c",
   "metadata": {
    "execution": {
     "iopub.execute_input": "2023-12-16T05:06:02.088872Z",
     "iopub.status.busy": "2023-12-16T05:06:02.088094Z",
     "iopub.status.idle": "2023-12-16T05:06:02.523002Z",
     "shell.execute_reply": "2023-12-16T05:06:02.522078Z"
    },
    "papermill": {
     "duration": 0.444284,
     "end_time": "2023-12-16T05:06:02.525689",
     "exception": false,
     "start_time": "2023-12-16T05:06:02.081405",
     "status": "completed"
    },
    "tags": []
   },
   "outputs": [],
   "source": [
    "# This Python 3 environment comes with many helpful analytics libraries installed\n",
    "# It is defined by the kaggle/python Docker image: https://github.com/kaggle/docker-python\n",
    "# For example, here's several helpful packages to load\n",
    "\n",
    "import numpy as np # linear algebra\n",
    "import pandas as pd # data processing, CSV file I/O (e.g. pd.read_csv)\n",
    "\n",
    "# Input data files are available in the read-only \"../input/\" directory\n",
    "# For example, running this (by clicking run or pressing Shift+Enter) will list all files under the input directory\n",
    "\n",
    "import os\n",
    "for dirname, _, filenames in os.walk('/kaggle/input'):\n",
    "    for filename in filenames:\n",
    "        print(os.path.join(dirname, filename))\n",
    "\n",
    "# You can write up to 20GB to the current directory (/kaggle/working/) that gets preserved as output when you create a version using \"Save & Run All\" \n",
    "# You can also write temporary files to /kaggle/temp/, but they won't be saved outside of the current session"
   ]
  },
  {
   "cell_type": "markdown",
   "id": "86d15182",
   "metadata": {
    "papermill": {
     "duration": 0.004894,
     "end_time": "2023-12-16T05:06:02.535865",
     "exception": false,
     "start_time": "2023-12-16T05:06:02.530971",
     "status": "completed"
    },
    "tags": []
   },
   "source": [
    "Just what is this Hyperparameter tuning? Hyperparameter tuning involves optimizing the configuration settings aka hyperparameters of a machine learning model to optimize its performance.\n",
    "\n",
    "The aim is to find the *optimal combination of hyperparameter values* that leads to the **best model performance**."
   ]
  },
  {
   "cell_type": "markdown",
   "id": "2f3a641c",
   "metadata": {
    "papermill": {
     "duration": 0.004838,
     "end_time": "2023-12-16T05:06:02.545939",
     "exception": false,
     "start_time": "2023-12-16T05:06:02.541101",
     "status": "completed"
    },
    "tags": []
   },
   "source": [
    "### Methods:\n",
    "\n",
    "1.\tGrid Search: Systematically searches through a predefined set of hyperparameter combinations.\n",
    "2.\tRandom Search: Randomly samples hyperparameter combinations from a specified range.\n",
    "3.\tBayesian Optimization: Uses probabilistic models to model the performance landscape and iteratively explores promising regions.\n",
    "4.\tGenetic Algorithms: Employs evolutionary principles to evolve a population of hyperparameter sets over multiple generations.\n",
    "\n",
    "For the purposes of article, I will just step through briefly the 2 more popular methods – Grid Search and Random Search with some examples for illustrations.\n"
   ]
  },
  {
   "cell_type": "markdown",
   "id": "abf479c1",
   "metadata": {
    "papermill": {
     "duration": 0.004898,
     "end_time": "2023-12-16T05:06:02.555874",
     "exception": false,
     "start_time": "2023-12-16T05:06:02.550976",
     "status": "completed"
    },
    "tags": []
   },
   "source": [
    "We need to install the imperative package **scikit-learn** for this exercise."
   ]
  },
  {
   "cell_type": "code",
   "execution_count": 2,
   "id": "7553ef1a",
   "metadata": {
    "execution": {
     "iopub.execute_input": "2023-12-16T05:06:02.568140Z",
     "iopub.status.busy": "2023-12-16T05:06:02.567524Z",
     "iopub.status.idle": "2023-12-16T05:06:18.540114Z",
     "shell.execute_reply": "2023-12-16T05:06:18.538685Z"
    },
    "papermill": {
     "duration": 15.981837,
     "end_time": "2023-12-16T05:06:18.542790",
     "exception": false,
     "start_time": "2023-12-16T05:06:02.560953",
     "status": "completed"
    },
    "tags": []
   },
   "outputs": [
    {
     "name": "stdout",
     "output_type": "stream",
     "text": [
      "Requirement already satisfied: scikit-learn in /opt/conda/lib/python3.10/site-packages (1.2.2)\r\n",
      "Requirement already satisfied: numpy>=1.17.3 in /opt/conda/lib/python3.10/site-packages (from scikit-learn) (1.24.3)\r\n",
      "Requirement already satisfied: scipy>=1.3.2 in /opt/conda/lib/python3.10/site-packages (from scikit-learn) (1.11.4)\r\n",
      "Requirement already satisfied: joblib>=1.1.1 in /opt/conda/lib/python3.10/site-packages (from scikit-learn) (1.3.2)\r\n",
      "Requirement already satisfied: threadpoolctl>=2.0.0 in /opt/conda/lib/python3.10/site-packages (from scikit-learn) (3.2.0)\r\n",
      "Note: you may need to restart the kernel to use updated packages.\n"
     ]
    }
   ],
   "source": [
    "pip install scikit-learn"
   ]
  },
  {
   "cell_type": "markdown",
   "id": "56b61dc3",
   "metadata": {
    "papermill": {
     "duration": 0.00516,
     "end_time": "2023-12-16T05:06:18.553409",
     "exception": false,
     "start_time": "2023-12-16T05:06:18.548249",
     "status": "completed"
    },
    "tags": []
   },
   "source": [
    "Let's use a opensource dataset Titanic for our analysis and modeling. To keep things simple, and to focus our tests only on the hjyperparameter tuning methods, we will stick to the same classier for both methods, and also same set of hyperparameters. \n",
    "\n",
    "In reality, there may be more adjustments and iterations, or we may even conclude we need to switch to a different algorithm / classifier."
   ]
  },
  {
   "cell_type": "code",
   "execution_count": 3,
   "id": "2ec4ef0d",
   "metadata": {
    "execution": {
     "iopub.execute_input": "2023-12-16T05:06:18.568048Z",
     "iopub.status.busy": "2023-12-16T05:06:18.566998Z",
     "iopub.status.idle": "2023-12-16T05:06:21.462654Z",
     "shell.execute_reply": "2023-12-16T05:06:21.461426Z"
    },
    "papermill": {
     "duration": 2.906279,
     "end_time": "2023-12-16T05:06:21.465552",
     "exception": false,
     "start_time": "2023-12-16T05:06:18.559273",
     "status": "completed"
    },
    "tags": []
   },
   "outputs": [],
   "source": [
    "# Import necessary libraries\n",
    "import seaborn as sns\n",
    "import pandas as pd\n",
    "from sklearn.model_selection import train_test_split\n",
    "from sklearn.tree import DecisionTreeClassifier\n",
    "from sklearn.model_selection import GridSearchCV, RandomizedSearchCV\n",
    "from sklearn.metrics import accuracy_score\n",
    "\n",
    "# Load the Titanic dataset from seaborn\n",
    "titanic = sns.load_dataset('titanic')\n",
    "\n",
    "# Drop rows with missing values for simplicity\n",
    "titanic = titanic.dropna()\n",
    "\n",
    "# Prepare the data\n",
    "X = titanic[['pclass', 'sex', 'age', 'sibsp', 'parch', 'fare']]\n",
    "y = titanic['survived']\n",
    "\n",
    "# Convert categorical variables to numerical using one-hot encoding\n",
    "X = pd.get_dummies(X, columns=['sex'], drop_first=True)\n",
    "\n",
    "# Split the data into training and testing sets\n",
    "X_train, X_test, y_train, y_test = train_test_split(X, y, test_size=0.28, random_state=42)\n",
    "\n",
    "# Decision Tree Classifier\n",
    "dt_classifier = DecisionTreeClassifier()\n"
   ]
  },
  {
   "cell_type": "markdown",
   "id": "ac1909d9",
   "metadata": {
    "papermill": {
     "duration": 0.005183,
     "end_time": "2023-12-16T05:06:21.476382",
     "exception": false,
     "start_time": "2023-12-16T05:06:21.471199",
     "status": "completed"
    },
    "tags": []
   },
   "source": [
    "Here we define the hyperparameters for both methods:"
   ]
  },
  {
   "cell_type": "code",
   "execution_count": 4,
   "id": "e79c2f71",
   "metadata": {
    "execution": {
     "iopub.execute_input": "2023-12-16T05:06:21.488864Z",
     "iopub.status.busy": "2023-12-16T05:06:21.488467Z",
     "iopub.status.idle": "2023-12-16T05:06:21.494731Z",
     "shell.execute_reply": "2023-12-16T05:06:21.493520Z"
    },
    "papermill": {
     "duration": 0.015548,
     "end_time": "2023-12-16T05:06:21.497229",
     "exception": false,
     "start_time": "2023-12-16T05:06:21.481681",
     "status": "completed"
    },
    "tags": []
   },
   "outputs": [],
   "source": [
    "# Hyperparameter grid\n",
    "param_grid = {\n",
    "    'criterion': ['gini', 'entropy'],\n",
    "    'max_depth': [3, 5, 7, 10, None],\n",
    "    'min_samples_split': [2, 5, 10],\n",
    "    'min_samples_leaf': [1, 2, 4]\n",
    "}"
   ]
  },
  {
   "cell_type": "raw",
   "id": "7ea45981",
   "metadata": {
    "papermill": {
     "duration": 0.005117,
     "end_time": "2023-12-16T05:06:21.508083",
     "exception": false,
     "start_time": "2023-12-16T05:06:21.502966",
     "status": "completed"
    },
    "tags": []
   },
   "source": [
    "Let's review GridSearchCV first."
   ]
  },
  {
   "cell_type": "code",
   "execution_count": 5,
   "id": "329f1f5e",
   "metadata": {
    "execution": {
     "iopub.execute_input": "2023-12-16T05:06:21.521040Z",
     "iopub.status.busy": "2023-12-16T05:06:21.520366Z",
     "iopub.status.idle": "2023-12-16T05:06:24.269064Z",
     "shell.execute_reply": "2023-12-16T05:06:24.267782Z"
    },
    "papermill": {
     "duration": 2.758542,
     "end_time": "2023-12-16T05:06:24.272011",
     "exception": false,
     "start_time": "2023-12-16T05:06:21.513469",
     "status": "completed"
    },
    "tags": []
   },
   "outputs": [
    {
     "name": "stdout",
     "output_type": "stream",
     "text": [
      "Grid Search Best Parameters: {'criterion': 'entropy', 'max_depth': 5, 'min_samples_leaf': 1, 'min_samples_split': 10}\n",
      "Grid Search Accuracy: 0.7254901960784313\n"
     ]
    }
   ],
   "source": [
    "\n",
    "# GridSearchCV\n",
    "grid_search = GridSearchCV(dt_classifier, param_grid, cv=5)\n",
    "grid_search.fit(X_train, y_train)\n",
    "grid_search_best_params = grid_search.best_params_\n",
    "\n",
    "\n",
    "# Fit models with best parameters\n",
    "grid_best_model = grid_search.best_estimator_\n",
    "grid_predictions = grid_best_model.predict(X_test)\n",
    "\n",
    "\n",
    "\n",
    "# Evaluate performance\n",
    "grid_accuracy = accuracy_score(y_test, grid_predictions)\n",
    "\n",
    "print(\"Grid Search Best Parameters:\", grid_search_best_params)\n",
    "print(\"Grid Search Accuracy:\", grid_accuracy)\n"
   ]
  },
  {
   "cell_type": "markdown",
   "id": "51789fd6",
   "metadata": {
    "papermill": {
     "duration": 0.005215,
     "end_time": "2023-12-16T05:06:24.282944",
     "exception": false,
     "start_time": "2023-12-16T05:06:24.277729",
     "status": "completed"
    },
    "tags": []
   },
   "source": [
    "Next, let's take a look at RandomizedSearchCV"
   ]
  },
  {
   "cell_type": "code",
   "execution_count": 6,
   "id": "53dc6d95",
   "metadata": {
    "execution": {
     "iopub.execute_input": "2023-12-16T05:06:24.295803Z",
     "iopub.status.busy": "2023-12-16T05:06:24.295384Z",
     "iopub.status.idle": "2023-12-16T05:06:24.618507Z",
     "shell.execute_reply": "2023-12-16T05:06:24.617099Z"
    },
    "papermill": {
     "duration": 0.33278,
     "end_time": "2023-12-16T05:06:24.621327",
     "exception": false,
     "start_time": "2023-12-16T05:06:24.288547",
     "status": "completed"
    },
    "tags": []
   },
   "outputs": [
    {
     "name": "stdout",
     "output_type": "stream",
     "text": [
      "Random Search Best Parameters: {'min_samples_split': 5, 'min_samples_leaf': 1, 'max_depth': 5, 'criterion': 'entropy'}\n",
      "Random Search Accuracy: 0.7058823529411765\n"
     ]
    }
   ],
   "source": [
    "# RandomizedSearchCV\n",
    "random_search = RandomizedSearchCV(dt_classifier, param_grid, n_iter=10, cv=5, random_state=42)\n",
    "random_search.fit(X_train, y_train)\n",
    "random_search_best_params = random_search.best_params_\n",
    "\n",
    "# Fit models with best parameters\n",
    "random_best_model = random_search.best_estimator_\n",
    "random_predictions = random_best_model.predict(X_test)\n",
    "\n",
    "\n",
    "# Evaluate performance\n",
    "random_accuracy = accuracy_score(y_test, random_predictions)\n",
    "\n",
    "print(\"Random Search Best Parameters:\", random_search_best_params)\n",
    "print(\"Random Search Accuracy:\", random_accuracy)\n"
   ]
  },
  {
   "cell_type": "markdown",
   "id": "d4fde343",
   "metadata": {
    "papermill": {
     "duration": 0.00536,
     "end_time": "2023-12-16T05:06:24.632989",
     "exception": false,
     "start_time": "2023-12-16T05:06:24.627629",
     "status": "completed"
    },
    "tags": []
   },
   "source": [
    "A quick comparison for both sets will tell us which is the better algorithm and with the optimal set of hyperparameters.\n"
   ]
  }
 ],
 "metadata": {
  "kaggle": {
   "accelerator": "none",
   "dataSources": [],
   "dockerImageVersionId": 30626,
   "isGpuEnabled": false,
   "isInternetEnabled": true,
   "language": "python",
   "sourceType": "notebook"
  },
  "kernelspec": {
   "display_name": "Python 3",
   "language": "python",
   "name": "python3"
  },
  "language_info": {
   "codemirror_mode": {
    "name": "ipython",
    "version": 3
   },
   "file_extension": ".py",
   "mimetype": "text/x-python",
   "name": "python",
   "nbconvert_exporter": "python",
   "pygments_lexer": "ipython3",
   "version": "3.10.12"
  },
  "papermill": {
   "default_parameters": {},
   "duration": 26.824122,
   "end_time": "2023-12-16T05:06:25.361477",
   "environment_variables": {},
   "exception": null,
   "input_path": "__notebook__.ipynb",
   "output_path": "__notebook__.ipynb",
   "parameters": {},
   "start_time": "2023-12-16T05:05:58.537355",
   "version": "2.4.0"
  }
 },
 "nbformat": 4,
 "nbformat_minor": 5
}
