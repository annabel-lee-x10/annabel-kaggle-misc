{
 "cells": [
  {
   "cell_type": "markdown",
   "id": "c5e887b6",
   "metadata": {
    "papermill": {
     "duration": 0.005778,
     "end_time": "2023-12-16T05:06:02.075951",
     "exception": false,
     "start_time": "2023-12-16T05:06:02.070173",
     "status": "completed"
    },
    "tags": []
   },
   "source": [
    "# Optimizing Your Machine Learning – RandomSearch"
   ]
  },
  {
   "cell_type": "code",
   "execution_count": 6,
   "id": "53dc6d95",
   "metadata": {
    "execution": {
     "iopub.execute_input": "2023-12-16T05:06:24.295803Z",
     "iopub.status.busy": "2023-12-16T05:06:24.295384Z",
     "iopub.status.idle": "2023-12-16T05:06:24.618507Z",
     "shell.execute_reply": "2023-12-16T05:06:24.617099Z"
    },
    "papermill": {
     "duration": 0.33278,
     "end_time": "2023-12-16T05:06:24.621327",
     "exception": false,
     "start_time": "2023-12-16T05:06:24.288547",
     "status": "completed"
    },
    "tags": []
   },
   "outputs": [
    {
     "name": "stdout",
     "output_type": "stream",
     "text": [
      "Random Search Best Parameters: {'min_samples_split': 5, 'min_samples_leaf': 1, 'max_depth': 5, 'criterion': 'entropy'}\n",
      "Random Search Accuracy: 0.7058823529411765\n"
     ]
    }
   ],
   "source": [
    "# RandomizedSearchCV\n",
    "random_search = RandomizedSearchCV(dt_classifier, param_grid, n_iter=10, cv=5, random_state=42)\n",
    "random_search.fit(X_train, y_train)\n",
    "random_search_best_params = random_search.best_params_\n",
    "\n",
    "# Fit models with best parameters\n",
    "random_best_model = random_search.best_estimator_\n",
    "random_predictions = random_best_model.predict(X_test)\n",
    "\n",
    "\n",
    "# Evaluate performance\n",
    "random_accuracy = accuracy_score(y_test, random_predictions)\n",
    "\n",
    "print(\"Random Search Best Parameters:\", random_search_best_params)\n",
    "print(\"Random Search Accuracy:\", random_accuracy)\n"
   ]
  }
 ],
 "metadata": {
  "kaggle": {
   "accelerator": "none",
   "dataSources": [],
   "dockerImageVersionId": 30626,
   "isGpuEnabled": false,
   "isInternetEnabled": true,
   "language": "python",
   "sourceType": "notebook"
  },
  "kernelspec": {
   "display_name": "Python 3",
   "language": "python",
   "name": "python3"
  },
  "language_info": {
   "codemirror_mode": {
    "name": "ipython",
    "version": 3
   },
   "file_extension": ".py",
   "mimetype": "text/x-python",
   "name": "python",
   "nbconvert_exporter": "python",
   "pygments_lexer": "ipython3",
   "version": "3.10.12"
  },
  "papermill": {
   "default_parameters": {},
   "duration": 26.824122,
   "end_time": "2023-12-16T05:06:25.361477",
   "environment_variables": {},
   "exception": null,
   "input_path": "__notebook__.ipynb",
   "output_path": "__notebook__.ipynb",
   "parameters": {},
   "start_time": "2023-12-16T05:05:58.537355",
   "version": "2.4.0"
  }
 },
 "nbformat": 4,
 "nbformat_minor": 5
}
