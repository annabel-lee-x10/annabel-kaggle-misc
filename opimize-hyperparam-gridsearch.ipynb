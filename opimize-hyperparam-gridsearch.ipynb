{
 "cells": [
  {
   "cell_type": "markdown",
   "id": "c5e887b6",
   "metadata": {
    "papermill": {
     "duration": 0.005778,
     "end_time": "2023-12-16T05:06:02.075951",
     "exception": false,
     "start_time": "2023-12-16T05:06:02.070173",
     "status": "completed"
    },
    "tags": []
   },
   "source": [
    "# Optimizing Your Machine Learning – GridSearch"
   ]
  },
  {
   "cell_type": "code",
   "execution_count": 5,
   "id": "329f1f5e",
   "metadata": {
    "execution": {
     "iopub.execute_input": "2023-12-16T05:06:21.521040Z",
     "iopub.status.busy": "2023-12-16T05:06:21.520366Z",
     "iopub.status.idle": "2023-12-16T05:06:24.269064Z",
     "shell.execute_reply": "2023-12-16T05:06:24.267782Z"
    },
    "papermill": {
     "duration": 2.758542,
     "end_time": "2023-12-16T05:06:24.272011",
     "exception": false,
     "start_time": "2023-12-16T05:06:21.513469",
     "status": "completed"
    },
    "tags": []
   },
   "outputs": [
    {
     "name": "stdout",
     "output_type": "stream",
     "text": [
      "Grid Search Best Parameters: {'criterion': 'entropy', 'max_depth': 5, 'min_samples_leaf': 1, 'min_samples_split': 10}\n",
      "Grid Search Accuracy: 0.7254901960784313\n"
     ]
    }
   ],
   "source": [
    "\n",
    "# GridSearchCV\n",
    "grid_search = GridSearchCV(dt_classifier, param_grid, cv=5)\n",
    "grid_search.fit(X_train, y_train)\n",
    "grid_search_best_params = grid_search.best_params_\n",
    "\n",
    "\n",
    "# Fit models with best parameters\n",
    "grid_best_model = grid_search.best_estimator_\n",
    "grid_predictions = grid_best_model.predict(X_test)\n",
    "\n",
    "\n",
    "\n",
    "# Evaluate performance\n",
    "grid_accuracy = accuracy_score(y_test, grid_predictions)\n",
    "\n",
    "print(\"Grid Search Best Parameters:\", grid_search_best_params)\n",
    "print(\"Grid Search Accuracy:\", grid_accuracy)\n"
   ]
  }
 ],
 "metadata": {
  "kaggle": {
   "accelerator": "none",
   "dataSources": [],
   "dockerImageVersionId": 30626,
   "isGpuEnabled": false,
   "isInternetEnabled": true,
   "language": "python",
   "sourceType": "notebook"
  },
  "kernelspec": {
   "display_name": "Python 3",
   "language": "python",
   "name": "python3"
  },
  "language_info": {
   "codemirror_mode": {
    "name": "ipython",
    "version": 3
   },
   "file_extension": ".py",
   "mimetype": "text/x-python",
   "name": "python",
   "nbconvert_exporter": "python",
   "pygments_lexer": "ipython3",
   "version": "3.10.12"
  },
  "papermill": {
   "default_parameters": {},
   "duration": 26.824122,
   "end_time": "2023-12-16T05:06:25.361477",
   "environment_variables": {},
   "exception": null,
   "input_path": "__notebook__.ipynb",
   "output_path": "__notebook__.ipynb",
   "parameters": {},
   "start_time": "2023-12-16T05:05:58.537355",
   "version": "2.4.0"
  }
 },
 "nbformat": 4,
 "nbformat_minor": 5
}
